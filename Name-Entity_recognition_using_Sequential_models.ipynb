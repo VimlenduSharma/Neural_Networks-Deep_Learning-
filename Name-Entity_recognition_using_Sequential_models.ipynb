{
 "cells": [
  {
   "cell_type": "code",
   "execution_count": 5,
   "id": "fd6f7c2f",
   "metadata": {},
   "outputs": [],
   "source": [
    "import pandas as pd\n",
    "import numpy as np\n",
    "import tensorflow as tf\n",
    "from keras.preprocessing.text import Tokenizer\n",
    "from keras.preprocessing.sequence import pad_sequences\n",
    "from keras.models import Sequential\n",
    "from keras.layers import Embedding, Dense, Bidirectional, LSTM, TimeDistributed\n",
    "from keras.losses import sparse_categorical_crossentropy\n",
    "from keras.optimizers import Adam\n"
   ]
  },
  {
   "cell_type": "code",
   "execution_count": 6,
   "id": "daee155f",
   "metadata": {},
   "outputs": [],
   "source": [
    "df=pd.read_csv('ner.csv')"
   ]
  },
  {
   "cell_type": "code",
   "execution_count": 7,
   "id": "f2c0d5a5",
   "metadata": {},
   "outputs": [
    {
     "data": {
      "text/html": [
       "<div>\n",
       "<style scoped>\n",
       "    .dataframe tbody tr th:only-of-type {\n",
       "        vertical-align: middle;\n",
       "    }\n",
       "\n",
       "    .dataframe tbody tr th {\n",
       "        vertical-align: top;\n",
       "    }\n",
       "\n",
       "    .dataframe thead th {\n",
       "        text-align: right;\n",
       "    }\n",
       "</style>\n",
       "<table border=\"1\" class=\"dataframe\">\n",
       "  <thead>\n",
       "    <tr style=\"text-align: right;\">\n",
       "      <th></th>\n",
       "      <th>Sentence #</th>\n",
       "      <th>Sentence</th>\n",
       "      <th>POS</th>\n",
       "      <th>Tag</th>\n",
       "    </tr>\n",
       "  </thead>\n",
       "  <tbody>\n",
       "    <tr>\n",
       "      <th>0</th>\n",
       "      <td>Sentence: 1</td>\n",
       "      <td>Thousands of demonstrators have marched throug...</td>\n",
       "      <td>['NNS', 'IN', 'NNS', 'VBP', 'VBN', 'IN', 'NNP'...</td>\n",
       "      <td>['O', 'O', 'O', 'O', 'O', 'O', 'B-geo', 'O', '...</td>\n",
       "    </tr>\n",
       "    <tr>\n",
       "      <th>1</th>\n",
       "      <td>Sentence: 2</td>\n",
       "      <td>Families of soldiers killed in the conflict jo...</td>\n",
       "      <td>['NNS', 'IN', 'NNS', 'VBN', 'IN', 'DT', 'NN', ...</td>\n",
       "      <td>['O', 'O', 'O', 'O', 'O', 'O', 'O', 'O', 'O', ...</td>\n",
       "    </tr>\n",
       "    <tr>\n",
       "      <th>2</th>\n",
       "      <td>Sentence: 3</td>\n",
       "      <td>They marched from the Houses of Parliament to ...</td>\n",
       "      <td>['PRP', 'VBD', 'IN', 'DT', 'NNS', 'IN', 'NN', ...</td>\n",
       "      <td>['O', 'O', 'O', 'O', 'O', 'O', 'O', 'O', 'O', ...</td>\n",
       "    </tr>\n",
       "    <tr>\n",
       "      <th>3</th>\n",
       "      <td>Sentence: 4</td>\n",
       "      <td>Police put the number of marchers at 10,000 wh...</td>\n",
       "      <td>['NNS', 'VBD', 'DT', 'NN', 'IN', 'NNS', 'IN', ...</td>\n",
       "      <td>['O', 'O', 'O', 'O', 'O', 'O', 'O', 'O', 'O', ...</td>\n",
       "    </tr>\n",
       "    <tr>\n",
       "      <th>4</th>\n",
       "      <td>Sentence: 5</td>\n",
       "      <td>The protest comes on the eve of the annual con...</td>\n",
       "      <td>['DT', 'NN', 'VBZ', 'IN', 'DT', 'NN', 'IN', 'D...</td>\n",
       "      <td>['O', 'O', 'O', 'O', 'O', 'O', 'O', 'O', 'O', ...</td>\n",
       "    </tr>\n",
       "    <tr>\n",
       "      <th>...</th>\n",
       "      <td>...</td>\n",
       "      <td>...</td>\n",
       "      <td>...</td>\n",
       "      <td>...</td>\n",
       "    </tr>\n",
       "    <tr>\n",
       "      <th>47954</th>\n",
       "      <td>Sentence: 47955</td>\n",
       "      <td>Indian border security forces are accusing the...</td>\n",
       "      <td>['JJ', 'NN', 'NN', 'NNS', 'VBP', 'VBG', 'PRP$'...</td>\n",
       "      <td>['B-gpe', 'O', 'O', 'O', 'O', 'O', 'O', 'B-gpe...</td>\n",
       "    </tr>\n",
       "    <tr>\n",
       "      <th>47955</th>\n",
       "      <td>Sentence: 47956</td>\n",
       "      <td>Indian officials said no one was injured in Sa...</td>\n",
       "      <td>['JJ', 'NNS', 'VBD', 'DT', 'NN', 'VBD', 'VBN',...</td>\n",
       "      <td>['B-gpe', 'O', 'O', 'O', 'O', 'O', 'O', 'O', '...</td>\n",
       "    </tr>\n",
       "    <tr>\n",
       "      <th>47956</th>\n",
       "      <td>Sentence: 47957</td>\n",
       "      <td>Two more landed in fields belonging to a nearb...</td>\n",
       "      <td>['CD', 'JJR', 'VBD', 'IN', 'NNS', 'VBG', 'TO',...</td>\n",
       "      <td>['O', 'O', 'O', 'O', 'O', 'O', 'O', 'O', 'O', ...</td>\n",
       "    </tr>\n",
       "    <tr>\n",
       "      <th>47957</th>\n",
       "      <td>Sentence: 47958</td>\n",
       "      <td>They say not all of the rockets exploded upon ...</td>\n",
       "      <td>['PRP', 'VBP', 'RB', 'DT', 'IN', 'DT', 'NNS', ...</td>\n",
       "      <td>['O', 'O', 'O', 'O', 'O', 'O', 'O', 'O', 'O', ...</td>\n",
       "    </tr>\n",
       "    <tr>\n",
       "      <th>47958</th>\n",
       "      <td>Sentence: 47959</td>\n",
       "      <td>Indian forces said they responded to the attack</td>\n",
       "      <td>['JJ', 'NNS', 'VBD', 'PRP', 'VBD', 'TO', 'DT',...</td>\n",
       "      <td>['B-gpe', 'O', 'O', 'O', 'O', 'O', 'O', 'O']</td>\n",
       "    </tr>\n",
       "  </tbody>\n",
       "</table>\n",
       "<p>47959 rows × 4 columns</p>\n",
       "</div>"
      ],
      "text/plain": [
       "            Sentence #  ...                                                Tag\n",
       "0          Sentence: 1  ...  ['O', 'O', 'O', 'O', 'O', 'O', 'B-geo', 'O', '...\n",
       "1          Sentence: 2  ...  ['O', 'O', 'O', 'O', 'O', 'O', 'O', 'O', 'O', ...\n",
       "2          Sentence: 3  ...  ['O', 'O', 'O', 'O', 'O', 'O', 'O', 'O', 'O', ...\n",
       "3          Sentence: 4  ...  ['O', 'O', 'O', 'O', 'O', 'O', 'O', 'O', 'O', ...\n",
       "4          Sentence: 5  ...  ['O', 'O', 'O', 'O', 'O', 'O', 'O', 'O', 'O', ...\n",
       "...                ...  ...                                                ...\n",
       "47954  Sentence: 47955  ...  ['B-gpe', 'O', 'O', 'O', 'O', 'O', 'O', 'B-gpe...\n",
       "47955  Sentence: 47956  ...  ['B-gpe', 'O', 'O', 'O', 'O', 'O', 'O', 'O', '...\n",
       "47956  Sentence: 47957  ...  ['O', 'O', 'O', 'O', 'O', 'O', 'O', 'O', 'O', ...\n",
       "47957  Sentence: 47958  ...  ['O', 'O', 'O', 'O', 'O', 'O', 'O', 'O', 'O', ...\n",
       "47958  Sentence: 47959  ...       ['B-gpe', 'O', 'O', 'O', 'O', 'O', 'O', 'O']\n",
       "\n",
       "[47959 rows x 4 columns]"
      ]
     },
     "execution_count": 7,
     "metadata": {},
     "output_type": "execute_result"
    }
   ],
   "source": [
    "df"
   ]
  },
  {
   "cell_type": "code",
   "execution_count": 8,
   "id": "c6463b6f",
   "metadata": {},
   "outputs": [],
   "source": [
    "X=df['Sentence']\n",
    "Y=df['Tag']"
   ]
  },
  {
   "cell_type": "code",
   "execution_count": 9,
   "id": "05e883e5",
   "metadata": {},
   "outputs": [],
   "source": [
    "max_words=36000\n",
    "tokenizer=Tokenizer(num_words=max_words)\n",
    "tokenizer.fit_on_texts(X)\n",
    "sequences=tokenizer.texts_to_sequences(X)#replace_words_with_their_indexes"
   ]
  },
  {
   "cell_type": "code",
   "execution_count": 11,
   "id": "3007d401",
   "metadata": {},
   "outputs": [
    {
     "data": {
      "text/plain": [
       "[260,\n",
       " 3,\n",
       " 997,\n",
       " 13,\n",
       " 1838,\n",
       " 245,\n",
       " 452,\n",
       " 4,\n",
       " 545,\n",
       " 1,\n",
       " 121,\n",
       " 2,\n",
       " 60,\n",
       " 6,\n",
       " 595,\n",
       " 1,\n",
       " 861,\n",
       " 3,\n",
       " 184,\n",
       " 89,\n",
       " 21,\n",
       " 12,\n",
       " 54]"
      ]
     },
     "execution_count": 11,
     "metadata": {},
     "output_type": "execute_result"
    }
   ],
   "source": [
    "sequences[0]"
   ]
  },
  {
   "cell_type": "code",
   "execution_count": 12,
   "id": "96c632f5",
   "metadata": {},
   "outputs": [
    {
     "data": {
      "text/plain": [
       "'Thousands of demonstrators have marched through London to protest the war in Iraq and demand the withdrawal of British troops from that country .'"
      ]
     },
     "execution_count": 12,
     "metadata": {},
     "output_type": "execute_result"
    }
   ],
   "source": [
    "X[0]"
   ]
  },
  {
   "cell_type": "code",
   "execution_count": 13,
   "id": "bd592e68",
   "metadata": {},
   "outputs": [],
   "source": [
    "X_preprocessed=pad_sequences(sequences, maxlen=110, padding='post')"
   ]
  },
  {
   "cell_type": "code",
   "execution_count": 14,
   "id": "69a2dc28",
   "metadata": {},
   "outputs": [],
   "source": [
    "words2id=tokenizer.word_index\n",
    "id2words={}\n",
    "for key, value in words2id.items():\n",
    "    id2words[value]=key"
   ]
  },
  {
   "cell_type": "code",
   "execution_count": 15,
   "id": "e85a2f4e",
   "metadata": {},
   "outputs": [
    {
     "data": {
      "text/plain": [
       "\"['O', 'O', 'O', 'O', 'O', 'O', 'B-geo', 'O', 'O', 'O', 'O', 'O', 'B-geo', 'O', 'O', 'O', 'O', 'O', 'B-gpe', 'O', 'O', 'O', 'O', 'O']\""
      ]
     },
     "execution_count": 15,
     "metadata": {},
     "output_type": "execute_result"
    }
   ],
   "source": [
    "Y[0]"
   ]
  },
  {
   "cell_type": "code",
   "execution_count": 16,
   "id": "df08a702",
   "metadata": {},
   "outputs": [
    {
     "data": {
      "text/plain": [
       "str"
      ]
     },
     "execution_count": 16,
     "metadata": {},
     "output_type": "execute_result"
    }
   ],
   "source": [
    "type(Y[0])"
   ]
  },
  {
   "cell_type": "code",
   "execution_count": 17,
   "id": "c9ae0173",
   "metadata": {},
   "outputs": [],
   "source": [
    "from ast import literal_eval\n",
    "Y_ready=[]\n",
    "for sentence_tag in Y:\n",
    "    Y_ready.append(literal_eval(sentence_tag))"
   ]
  },
  {
   "cell_type": "code",
   "execution_count": 18,
   "id": "7be76bb2",
   "metadata": {},
   "outputs": [
    {
     "data": {
      "text/plain": [
       "['O',\n",
       " 'O',\n",
       " 'O',\n",
       " 'O',\n",
       " 'O',\n",
       " 'O',\n",
       " 'B-geo',\n",
       " 'O',\n",
       " 'O',\n",
       " 'O',\n",
       " 'O',\n",
       " 'O',\n",
       " 'B-geo',\n",
       " 'O',\n",
       " 'O',\n",
       " 'O',\n",
       " 'O',\n",
       " 'O',\n",
       " 'B-gpe',\n",
       " 'O',\n",
       " 'O',\n",
       " 'O',\n",
       " 'O',\n",
       " 'O']"
      ]
     },
     "execution_count": 18,
     "metadata": {},
     "output_type": "execute_result"
    }
   ],
   "source": [
    "Y_ready[0]"
   ]
  },
  {
   "cell_type": "code",
   "execution_count": 19,
   "id": "0b2cd922",
   "metadata": {},
   "outputs": [
    {
     "data": {
      "text/plain": [
       "list"
      ]
     },
     "execution_count": 19,
     "metadata": {},
     "output_type": "execute_result"
    }
   ],
   "source": [
    "type(Y_ready[0])"
   ]
  },
  {
   "cell_type": "code",
   "execution_count": 20,
   "id": "35ec6d50",
   "metadata": {},
   "outputs": [],
   "source": [
    "tags=[]\n",
    "for sentence_tag in Y_ready:\n",
    "    for tag in sentence_tag:\n",
    "        if tag not in tags:\n",
    "            tags.append(tag)"
   ]
  },
  {
   "cell_type": "code",
   "execution_count": 21,
   "id": "306a228a",
   "metadata": {},
   "outputs": [
    {
     "data": {
      "text/plain": [
       "['O',\n",
       " 'B-geo',\n",
       " 'B-gpe',\n",
       " 'B-per',\n",
       " 'I-geo',\n",
       " 'B-org',\n",
       " 'I-org',\n",
       " 'B-tim',\n",
       " 'B-art',\n",
       " 'I-art',\n",
       " 'I-per',\n",
       " 'I-gpe',\n",
       " 'I-tim',\n",
       " 'B-nat',\n",
       " 'B-eve',\n",
       " 'I-eve',\n",
       " 'I-nat']"
      ]
     },
     "execution_count": 21,
     "metadata": {},
     "output_type": "execute_result"
    }
   ],
   "source": [
    "tags"
   ]
  },
  {
   "cell_type": "code",
   "execution_count": 23,
   "id": "293dc07c",
   "metadata": {},
   "outputs": [],
   "source": [
    "num_tags=len(tags)"
   ]
  },
  {
   "cell_type": "code",
   "execution_count": 24,
   "id": "78c9ff38",
   "metadata": {},
   "outputs": [],
   "source": [
    "tags2id={}\n",
    "for i,tag in enumerate(tags):\n",
    "    tags2id[tag]=i"
   ]
  },
  {
   "cell_type": "code",
   "execution_count": 25,
   "id": "e560598b",
   "metadata": {},
   "outputs": [
    {
     "data": {
      "text/plain": [
       "{'O': 0,\n",
       " 'B-geo': 1,\n",
       " 'B-gpe': 2,\n",
       " 'B-per': 3,\n",
       " 'I-geo': 4,\n",
       " 'B-org': 5,\n",
       " 'I-org': 6,\n",
       " 'B-tim': 7,\n",
       " 'B-art': 8,\n",
       " 'I-art': 9,\n",
       " 'I-per': 10,\n",
       " 'I-gpe': 11,\n",
       " 'I-tim': 12,\n",
       " 'B-nat': 13,\n",
       " 'B-eve': 14,\n",
       " 'I-eve': 15,\n",
       " 'I-nat': 16}"
      ]
     },
     "execution_count": 25,
     "metadata": {},
     "output_type": "execute_result"
    }
   ],
   "source": [
    "tags2id"
   ]
  },
  {
   "cell_type": "code",
   "execution_count": 26,
   "id": "acd86d50",
   "metadata": {},
   "outputs": [],
   "source": [
    "id2tags={}\n",
    "for key, value in tags2id.items():\n",
    "    id2tags[value]=key"
   ]
  },
  {
   "cell_type": "code",
   "execution_count": 28,
   "id": "3f1c7116",
   "metadata": {},
   "outputs": [],
   "source": [
    "Y_preprocessed=[]\n",
    "for sentence_tag in Y_ready:\n",
    "    result=[]\n",
    "    for tag in sentence_tag:\n",
    "        result.append(tags2id[tag])\n",
    "    Y_preprocessed.append(result)"
   ]
  },
  {
   "cell_type": "code",
   "execution_count": 29,
   "id": "e67a5a1e",
   "metadata": {},
   "outputs": [
    {
     "data": {
      "text/plain": [
       "[0, 0, 0, 0, 0, 0, 1, 0, 0, 0, 0, 0, 1, 0, 0, 0, 0, 0, 2, 0, 0, 0, 0, 0]"
      ]
     },
     "execution_count": 29,
     "metadata": {},
     "output_type": "execute_result"
    }
   ],
   "source": [
    "Y_preprocessed[0]"
   ]
  },
  {
   "cell_type": "code",
   "execution_count": 30,
   "id": "bbf35a06",
   "metadata": {},
   "outputs": [],
   "source": [
    "Y_preprocessed=pad_sequences(Y_preprocessed, maxlen=110, padding='post')"
   ]
  },
  {
   "cell_type": "code",
   "execution_count": 31,
   "id": "a648087f",
   "metadata": {},
   "outputs": [
    {
     "data": {
      "text/plain": [
       "(47959, 4)"
      ]
     },
     "execution_count": 31,
     "metadata": {},
     "output_type": "execute_result"
    }
   ],
   "source": [
    "df.shape"
   ]
  },
  {
   "cell_type": "code",
   "execution_count": 32,
   "id": "f177839c",
   "metadata": {},
   "outputs": [],
   "source": [
    "X_train=X_preprocessed[:30000]\n",
    "Y_train=Y_preprocessed[:30000]\n",
    "\n",
    "X_val=X_preprocessed[30000:38000]\n",
    "Y_val=Y_preprocessed[30000:38000]\n",
    "\n",
    "X_test=X_preprocessed[38000:]\n",
    "Y_test=Y_preprocessed[38000:]"
   ]
  },
  {
   "cell_type": "code",
   "execution_count": 33,
   "id": "93914216",
   "metadata": {},
   "outputs": [],
   "source": [
    "train_dataset=tf.data.Dataset.from_tensor_slices((X_train, Y_train))\n",
    "val_dataset=tf.data.Dataset.from_tensor_slices((X_val, Y_val))\n",
    "test_dataset=tf.data.Dataset.from_tensor_slices((X_test, Y_test))\n",
    "\n"
   ]
  },
  {
   "cell_type": "code",
   "execution_count": 34,
   "id": "93cca959",
   "metadata": {},
   "outputs": [],
   "source": [
    "batch_size=128\n",
    "train_dataset=train_dataset.batch(batch_size)\n",
    "val_dataset=val_dataset.batch(batch_size)\n",
    "test_dataset=test_dataset.batch(batch_size)"
   ]
  },
  {
   "cell_type": "code",
   "execution_count": 36,
   "id": "a8309808",
   "metadata": {},
   "outputs": [],
   "source": [
    "model=Sequential()\n",
    "model.add(Embedding(max_words, 300, input_length=110))\n",
    "model.add(Bidirectional(LSTM(100, return_sequences=True)))\n",
    "model.add(Bidirectional(LSTM(100, return_sequences=True)))\n",
    "model.add(TimeDistributed(Dense(num_tags, activation='softmax')))"
   ]
  },
  {
   "cell_type": "code",
   "execution_count": 45,
   "id": "9dd40c93",
   "metadata": {},
   "outputs": [],
   "source": [
    "model.compile(loss=sparse_categorical_crossentropy,\n",
    "             metrics='accuracy',\n",
    "             optimizer='adam')"
   ]
  },
  {
   "cell_type": "code",
   "execution_count": 46,
   "id": "0341cfbf",
   "metadata": {},
   "outputs": [
    {
     "name": "stdout",
     "output_type": "stream",
     "text": [
      "Epoch 1/5\n",
      "235/235 [==============================] - 75s 314ms/step - loss: 0.1927 - accuracy: 0.9656 - val_loss: 0.1149 - val_accuracy: 0.9703\n",
      "Epoch 2/5\n",
      "235/235 [==============================] - 73s 311ms/step - loss: 0.1031 - accuracy: 0.9718 - val_loss: 0.0925 - val_accuracy: 0.9743\n",
      "Epoch 3/5\n",
      "235/235 [==============================] - 73s 309ms/step - loss: 0.0746 - accuracy: 0.9770 - val_loss: 0.0738 - val_accuracy: 0.9773\n",
      "Epoch 4/5\n",
      "235/235 [==============================] - 72s 308ms/step - loss: 0.0590 - accuracy: 0.9805 - val_loss: 0.0689 - val_accuracy: 0.9783\n",
      "Epoch 5/5\n",
      "235/235 [==============================] - 73s 310ms/step - loss: 0.0490 - accuracy: 0.9833 - val_loss: 0.0699 - val_accuracy: 0.9796\n"
     ]
    },
    {
     "data": {
      "text/plain": [
       "<keras.src.callbacks.History at 0x177c380d0>"
      ]
     },
     "execution_count": 46,
     "metadata": {},
     "output_type": "execute_result"
    }
   ],
   "source": [
    "model.fit(train_dataset, validation_data=val_dataset, epochs=5)"
   ]
  },
  {
   "cell_type": "code",
   "execution_count": 48,
   "id": "beff7640",
   "metadata": {},
   "outputs": [
    {
     "name": "stdout",
     "output_type": "stream",
     "text": [
      "78/78 [==============================] - 8s 96ms/step - loss: 0.0666 - accuracy: 0.9802\n"
     ]
    },
    {
     "data": {
      "text/plain": [
       "[0.06660435348749161, 0.9802207350730896]"
      ]
     },
     "execution_count": 48,
     "metadata": {},
     "output_type": "execute_result"
    }
   ],
   "source": [
    "model.evaluate(test_dataset)"
   ]
  },
  {
   "cell_type": "code",
   "execution_count": null,
   "id": "779c92f2",
   "metadata": {},
   "outputs": [],
   "source": [
    "def prediction(model, test_sentence, id2tags, id2words):\n",
    "    sentence=test_sentence[test_sentence>0]\n",
    "    words_list=[]\n",
    "    for id in list(sentence):\n",
    "        words_list.append(id2words[id])\n",
    "    original_sentence=' '.join(words_list)\n",
    "    \n",
    "    prediction=model.predict(test_sentence)\n",
    "    prediction=np.argmax(prediction[0], axis=1)\n",
    "    prediction=prediction[:len(original_sentence)]\n",
    "    \n",
    "    predicted_tags=[]\n",
    "    for tag in list(prediction):\n",
    "        predicted_tags.append(id2tags[id])\n",
    "    return original_sentence, predicted_tags\n",
    "    "
   ]
  },
  {
   "cell_type": "code",
   "execution_count": 47,
   "id": "baaab2b6",
   "metadata": {},
   "outputs": [
    {
     "name": "stdout",
     "output_type": "stream",
     "text": [
      "1/1 [==============================] - 0s 361ms/step\n"
     ]
    },
    {
     "data": {
      "text/plain": [
       "array([[[9.9943060e-01, 7.3431984e-05, 4.6992303e-05, ...,\n",
       "         2.0277184e-05, 2.1248827e-05, 3.5781729e-06],\n",
       "        [9.9947840e-01, 9.8307581e-05, 1.4149036e-05, ...,\n",
       "         1.5386371e-05, 1.3433023e-05, 2.3498844e-06],\n",
       "        [9.9708986e-01, 6.1090628e-04, 4.2267133e-05, ...,\n",
       "         5.8014593e-05, 4.8605169e-05, 1.1372216e-05],\n",
       "        ...,\n",
       "        [9.9999523e-01, 3.4427882e-07, 1.2629976e-06, ...,\n",
       "         9.7068856e-08, 9.6073478e-08, 1.1344597e-08],\n",
       "        [9.9998617e-01, 1.3645813e-06, 3.2161088e-06, ...,\n",
       "         4.8210427e-07, 5.1817182e-07, 7.6567716e-08],\n",
       "        [9.9983871e-01, 2.0322506e-05, 2.1986612e-05, ...,\n",
       "         9.0879030e-06, 1.0820420e-05, 2.4572594e-06]]], dtype=float32)"
      ]
     },
     "execution_count": 47,
     "metadata": {},
     "output_type": "execute_result"
    }
   ],
   "source": [
    "test=X_test[0].reshape(1, 110)\n",
    "model.predict(test)"
   ]
  },
  {
   "cell_type": "code",
   "execution_count": null,
   "id": "7aefa280",
   "metadata": {},
   "outputs": [],
   "source": []
  }
 ],
 "metadata": {
  "kernelspec": {
   "display_name": "Python 3 (ipykernel)",
   "language": "python",
   "name": "python3"
  },
  "language_info": {
   "codemirror_mode": {
    "name": "ipython",
    "version": 3
   },
   "file_extension": ".py",
   "mimetype": "text/x-python",
   "name": "python",
   "nbconvert_exporter": "python",
   "pygments_lexer": "ipython3",
   "version": "3.11.5"
  }
 },
 "nbformat": 4,
 "nbformat_minor": 5
}
